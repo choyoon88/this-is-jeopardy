{
 "cells": [
  {
   "cell_type": "markdown",
   "metadata": {},
   "source": [
    "# This is Jeopardy!"
   ]
  },
  {
   "cell_type": "markdown",
   "metadata": {},
   "source": [
    "#### Overview"
   ]
  },
  {
   "cell_type": "markdown",
   "metadata": {},
   "source": [
    "This project is slightly different than others you have encountered thus far. Instead of a step-by-step tutorial, this project contains a series of open-ended requirements which describe the project you'll be building. There are many possible ways to correctly fulfill all of these requirements, and you should expect to use the internet, Codecademy, and/or other resources when you encounter a problem that you cannot easily solve."
   ]
  },
  {
   "cell_type": "markdown",
   "metadata": {},
   "source": [
    "#### Project Goals"
   ]
  },
  {
   "cell_type": "markdown",
   "metadata": {},
   "source": [
    "You will work to write several functions that investigate a dataset of _Jeopardy!_ questions and answers. Filter the dataset for topics that you're interested in, compute the average difficulty of those questions, and train to become the next Jeopardy champion!"
   ]
  },
  {
   "cell_type": "markdown",
   "metadata": {},
   "source": [
    "## Prerequisites"
   ]
  },
  {
   "cell_type": "markdown",
   "metadata": {},
   "source": [
    "In order to complete this project, you should have completed the Pandas lessons in the <a href=\"https://www.codecademy.com/learn/paths/analyze-data-with-python\">Analyze Data with Python Skill Path</a>. You can also find those lessons in the <a href=\"https://www.codecademy.com/learn/data-processing-pandas\">Data Analysis with Pandas course</a> or the <a href=\"https://www.codecademy.com/learn/paths/data-science/\">Data Scientist Career Path</a>.\n",
    "\n",
    "Finally, the <a href=\"https://www.codecademy.com/learn/practical-data-cleaning\">Practical Data Cleaning</a> course may also be helpful."
   ]
  },
  {
   "cell_type": "markdown",
   "metadata": {},
   "source": [
    "## Project Requirements"
   ]
  },
  {
   "cell_type": "markdown",
   "metadata": {},
   "source": [
    "1. We've provided a csv file containing data about the game show _Jeopardy!_ in a file named `jeopardy.csv`. Load the data into a DataFrame and investigate its contents. Try to print out specific columns.\n",
    "\n",
    "   Note that in order to make this project as \"real-world\" as possible, we haven't modified the data at all - we're giving it to you exactly how we found it. As a result, this data isn't as \"clean\" as the datasets you normally find on Codecademy. More specifically, there's something odd about the column names. After you figure out the problem with the column names, you may want to rename them to make your life easier for the rest of the project.\n",
    "   \n",
    "   In order to display the full contents of a column, we've added this line of code for you:\n",
    "   \n",
    "   ```py\n",
    "   pd.set_option('display.max_colwidth', None)\n",
    "   ```"
   ]
  },
  {
   "cell_type": "code",
   "execution_count": 1,
   "metadata": {},
   "outputs": [],
   "source": [
    "import pandas as pd\n",
    "pd.set_option('display.max_colwidth', None)"
   ]
  },
  {
   "cell_type": "markdown",
   "metadata": {},
   "source": [
    "2. Write a function that filters the dataset for questions that contains all of the words in a list of words. For example, when the list `[\"King\", \"England\"]` was passed to our function, the function returned a DataFrame of 49 rows. Every row had the strings `\"King\"` and `\"England\"` somewhere in its `\" Question\"`.\n",
    "\n",
    "   Test your function by printing out the column containing the question of each row of the dataset."
   ]
  },
  {
   "cell_type": "code",
   "execution_count": 42,
   "metadata": {},
   "outputs": [
    {
     "name": "stdout",
     "output_type": "stream",
     "text": [
      "    Show Number    Air Date             Round  \\\n",
      "0          4680  2004-12-31         Jeopardy!   \n",
      "1          4680  2004-12-31         Jeopardy!   \n",
      "2          4680  2004-12-31         Jeopardy!   \n",
      "3          4680  2004-12-31         Jeopardy!   \n",
      "4          4680  2004-12-31         Jeopardy!   \n",
      "5          4680  2004-12-31         Jeopardy!   \n",
      "6          4680  2004-12-31         Jeopardy!   \n",
      "7          4680  2004-12-31         Jeopardy!   \n",
      "8          4680  2004-12-31         Jeopardy!   \n",
      "9          4680  2004-12-31         Jeopardy!   \n",
      "10         4680  2004-12-31         Jeopardy!   \n",
      "11         4680  2004-12-31         Jeopardy!   \n",
      "12         4680  2004-12-31         Jeopardy!   \n",
      "13         4680  2004-12-31         Jeopardy!   \n",
      "14         4680  2004-12-31         Jeopardy!   \n",
      "15         4680  2004-12-31         Jeopardy!   \n",
      "16         4680  2004-12-31         Jeopardy!   \n",
      "17         4680  2004-12-31         Jeopardy!   \n",
      "18         4680  2004-12-31         Jeopardy!   \n",
      "19         4680  2004-12-31         Jeopardy!   \n",
      "20         4680  2004-12-31         Jeopardy!   \n",
      "21         4680  2004-12-31         Jeopardy!   \n",
      "22         4680  2004-12-31         Jeopardy!   \n",
      "23         4680  2004-12-31         Jeopardy!   \n",
      "24         4680  2004-12-31         Jeopardy!   \n",
      "25         4680  2004-12-31         Jeopardy!   \n",
      "26         4680  2004-12-31         Jeopardy!   \n",
      "27         4680  2004-12-31         Jeopardy!   \n",
      "28         4680  2004-12-31         Jeopardy!   \n",
      "29         4680  2004-12-31  Double Jeopardy!   \n",
      "30         4680  2004-12-31  Double Jeopardy!   \n",
      "31         4680  2004-12-31  Double Jeopardy!   \n",
      "32         4680  2004-12-31  Double Jeopardy!   \n",
      "33         4680  2004-12-31  Double Jeopardy!   \n",
      "34         4680  2004-12-31  Double Jeopardy!   \n",
      "35         4680  2004-12-31  Double Jeopardy!   \n",
      "36         4680  2004-12-31  Double Jeopardy!   \n",
      "37         4680  2004-12-31  Double Jeopardy!   \n",
      "38         4680  2004-12-31  Double Jeopardy!   \n",
      "39         4680  2004-12-31  Double Jeopardy!   \n",
      "40         4680  2004-12-31  Double Jeopardy!   \n",
      "41         4680  2004-12-31  Double Jeopardy!   \n",
      "42         4680  2004-12-31  Double Jeopardy!   \n",
      "43         4680  2004-12-31  Double Jeopardy!   \n",
      "44         4680  2004-12-31  Double Jeopardy!   \n",
      "45         4680  2004-12-31  Double Jeopardy!   \n",
      "46         4680  2004-12-31  Double Jeopardy!   \n",
      "47         4680  2004-12-31  Double Jeopardy!   \n",
      "48         4680  2004-12-31  Double Jeopardy!   \n",
      "49         4680  2004-12-31  Double Jeopardy!   \n",
      "\n",
      "                           Category   Value  \\\n",
      "0                           HISTORY    $200   \n",
      "1   ESPN's TOP 10 ALL-TIME ATHLETES    $200   \n",
      "2       EVERYBODY TALKS ABOUT IT...    $200   \n",
      "3                  THE COMPANY LINE    $200   \n",
      "4               EPITAPHS & TRIBUTES    $200   \n",
      "5                    3-LETTER WORDS    $200   \n",
      "6                           HISTORY    $400   \n",
      "7   ESPN's TOP 10 ALL-TIME ATHLETES    $400   \n",
      "8       EVERYBODY TALKS ABOUT IT...    $400   \n",
      "9                  THE COMPANY LINE    $400   \n",
      "10              EPITAPHS & TRIBUTES    $400   \n",
      "11                   3-LETTER WORDS    $400   \n",
      "12                          HISTORY    $600   \n",
      "13  ESPN's TOP 10 ALL-TIME ATHLETES    $600   \n",
      "14      EVERYBODY TALKS ABOUT IT...    $600   \n",
      "15                 THE COMPANY LINE    $600   \n",
      "16              EPITAPHS & TRIBUTES    $600   \n",
      "17                   3-LETTER WORDS    $600   \n",
      "18                          HISTORY    $800   \n",
      "19  ESPN's TOP 10 ALL-TIME ATHLETES    $800   \n",
      "20      EVERYBODY TALKS ABOUT IT...    $800   \n",
      "21                 THE COMPANY LINE    $800   \n",
      "22              EPITAPHS & TRIBUTES  $2,000   \n",
      "23                   3-LETTER WORDS    $800   \n",
      "24                          HISTORY   $1000   \n",
      "25  ESPN's TOP 10 ALL-TIME ATHLETES   $1000   \n",
      "26                 THE COMPANY LINE   $1000   \n",
      "27              EPITAPHS & TRIBUTES   $1000   \n",
      "28                   3-LETTER WORDS   $1000   \n",
      "29       DR. SEUSS AT THE MULTIPLEX    $400   \n",
      "30     PRESIDENTIAL STATES OF BIRTH    $400   \n",
      "31                   AIRLINE TRAVEL    $400   \n",
      "32           THAT OLD-TIME RELIGION    $400   \n",
      "33                   MUSICAL TRAINS    $400   \n",
      "34                      \"X\"s & \"O\"s    $400   \n",
      "35     PRESIDENTIAL STATES OF BIRTH    $800   \n",
      "36                   AIRLINE TRAVEL    $800   \n",
      "37           THAT OLD-TIME RELIGION    $800   \n",
      "38                   MUSICAL TRAINS    $800   \n",
      "39                      \"X\"s & \"O\"s    $800   \n",
      "40       DR. SEUSS AT THE MULTIPLEX   $1200   \n",
      "41                   AIRLINE TRAVEL  $2,000   \n",
      "42           THAT OLD-TIME RELIGION   $1200   \n",
      "43                   MUSICAL TRAINS   $1200   \n",
      "44                      \"X\"s & \"O\"s   $1200   \n",
      "45       DR. SEUSS AT THE MULTIPLEX   $1600   \n",
      "46                   AIRLINE TRAVEL   $1600   \n",
      "47           THAT OLD-TIME RELIGION   $1600   \n",
      "48                   MUSICAL TRAINS   $1600   \n",
      "49                      \"X\"s & \"O\"s   $1600   \n",
      "\n",
      "                                                                                                                                                                              Question  \\\n",
      "0                                                                                     For the last 8 years of his life, Galileo was under house arrest for espousing this man's theory   \n",
      "1                                                                          No. 2: 1912 Olympian; football star at Carlisle Indian School; 6 MLB seasons with the Reds, Giants & Braves   \n",
      "2                                                                                             The city of Yuma in this state has a record average of 4,055 hours of sunshine each year   \n",
      "3                                                                                                 In 1963, live on \"The Art Linkletter Show\", this company served its billionth burger   \n",
      "4                                                                             Signer of the Dec. of Indep., framer of the Constitution of Mass., second President of the United States   \n",
      "5                                                                                                        In the title of an Aesop fable, this insect shared billing with a grasshopper   \n",
      "6                                                                                                         Built in 312 B.C. to link Rome & the South of Italy, it's still in use today   \n",
      "7                                                                                                               No. 8: 30 steals for the Birmingham Barons; 2,306 steals for the Bulls   \n",
      "8                                                                        In the winter of 1971-72, a record 1,122 inches of snow fell at Rainier Paradise Ranger Station in this state   \n",
      "9                                                                                   This housewares store was named for the packaging its merchandise came in & was first displayed on   \n",
      "10                                                                                                                                                                    \"And away we go\"   \n",
      "11                                                                                                           Cows regurgitate this from the first stomach to the mouth & chew it again   \n",
      "12                                                                                     In 1000 Rajaraja I of the Cholas battled to take this Indian Ocean island now known for its tea   \n",
      "13                                                              No. 1: Lettered in hoops, football & lacrosse at Syracuse & if you think he couldn't act, ask his 11 \"unclean\" buddies   \n",
      "14                                                                 On June 28, 1994 the nat'l weather service began issuing this index that rates the intensity of the sun's radiation   \n",
      "15                                                                        This company's Accutron watch, introduced in 1960, had a guarantee of accuracy to within one minute a  month   \n",
      "16                                                                                                Outlaw: \"Murdered by a traitor and a coward whose name is not worthy to appear here\"   \n",
      "17                                                                                                                A small demon, or a mischievous child (who might be a little demon!)   \n",
      "18                                                                                            Karl led the first of these Marxist organizational efforts; the second one began in 1889   \n",
      "19                                                                                 No. 10: FB/LB for Columbia U. in the 1920s; MVP for the Yankees in '27 & '36; \"Gibraltar in Cleats\"   \n",
      "20                                                                          Africa's lowest temperature was 11 degrees below zero in 1935 at Ifrane, just south of Fez in this country   \n",
      "21                                                                                                           Edward Teller & this man partnered in 1898 to sell high fashions to women   \n",
      "22                                                                                                1939 Oscar winner: \"...you are a credit to your craft, your race and to your family\"   \n",
      "23                                                                                In geologic time one of these, shorter than an eon, is divided into periods & subdivided into epochs   \n",
      "24                                                                                           This Asian political party was founded in 1885 with \"Indian National\" as part of its name   \n",
      "25                                                                             No. 5: Only center to lead the NBA in assists; track scholarship to Kansas U.; marathoner; volleyballer   \n",
      "26                                                                             The Kirschner brothers, Don & Bill, named this ski company for themselves & the second-highest mountain   \n",
      "27                                                                                                                              Revolutionary War hero: \"His spirit is in Vermont now\"   \n",
      "28                                                                                                                       A single layer of paper, or to perform one's craft diligently   \n",
      "29         <a href=\"http://www.j-archive.com/media/2004-12-31_DJ_23.mp3\">Beyond ovoid abandonment, beyond ovoid betrayal... you won't believe the ending when he \"Hatches the Egg\"</a>   \n",
      "30                                                                                                                                                                          California   \n",
      "31                                                                   It can be a place to leave your puppy when you take a trip, or a carrier for him that fits under an airplane seat   \n",
      "32                                                                    He's considered the author of the Pentateuch, which is hard to believe, as Deuteronomy continues after his death   \n",
      "33                                                                    Steven Tyler of this band lent his steamin' vocals to \"Train Kept A-Rollin'\", first popularized by the Yardbirds   \n",
      "34                                                                               Around 100 A.D. Tacitus wrote a book on how this art of persuasive speaking had declined since Cicero   \n",
      "35                                                                                                                                                          1 of the 2 born in Vermont   \n",
      "36                                                          When it began on Pan Am & Qantas in the late '70s, it was basically a roped-off part of the economy cabin with free drinks   \n",
      "37                                                                                 Ali, who married this man's daughter Fatima, is considered by Shia Muslims to be his true successor   \n",
      "38                                                                                           During the 1954-1955 Sun sessions, Elvis climbed aboard this train \"sixteen coaches long\"   \n",
      "39                       The shorter glass seen <a href=\"http://www.j-archive.com/media/2004-12-31_DJ_12.jpg\" target=\"_blank\">here</a>, or a quaint cocktail made with sugar & bitters   \n",
      "40   <a href=\"http://www.j-archive.com/media/2004-12-31_DJ_26.mp3\">Ripped from today's headlines, he was a turtle king gone mad; Mack was the one good turtle who'd bring him down</a>   \n",
      "41                                                                                                           In 2003 this airline agreed to buy KLM, creating Europe's largest airline   \n",
      "42                                                                                  Philadelphia got its start as a colony for this religious group of which William Penn was a member   \n",
      "43                                                                                               This \"Modern Girl\" first hit the Billboard Top 10 with \"Morning Train (Nine To Five)\"   \n",
      "44                                                                                            This stiff silken fabric is favored for bridal gowns, like Christina Applegate's in 2001   \n",
      "45  <a href=\"http://www.j-archive.com/media/2004-12-31_DJ_25.mp3\">Somewhere between truth & fiction lies Marco's reality... on Halloween, you won't believe you saw it on this St.</a>   \n",
      "46                                                                                             In 2004 United launched this new service that features low fares & more seats per plane   \n",
      "47                                                                             With Mary I's accession in 1553 he ran to Geneva; he returned in 1559 & reformed the Church of Scotland   \n",
      "48                                                                                          This band's \"Train In Vain\" was a hidden track on its original 1979 \"London Calling\" album   \n",
      "49                                                                 Cross-country skiing is sometimes referred to by these 2 letters, the same ones used to denote 90 in Roman numerals   \n",
      "\n",
      "                                                  Answer  \n",
      "0                                             Copernicus  \n",
      "1                                             Jim Thorpe  \n",
      "2                                                Arizona  \n",
      "3                                             McDonald's  \n",
      "4                                             John Adams  \n",
      "5                                                the ant  \n",
      "6                                         the Appian Way  \n",
      "7                                         Michael Jordan  \n",
      "8                                             Washington  \n",
      "9                                         Crate & Barrel  \n",
      "10                                        Jackie Gleason  \n",
      "11                                               the cud  \n",
      "12                                 Ceylon (or Sri Lanka)  \n",
      "13                                             Jim Brown  \n",
      "14                                          the UV index  \n",
      "15                                                Bulova  \n",
      "16                                           Jesse James  \n",
      "17                                                   imp  \n",
      "18                                     the International  \n",
      "19                                          (Lou) Gehrig  \n",
      "20                                               Morocco  \n",
      "21                                         (Paul) Bonwit  \n",
      "22  Hattie McDaniel (for her role in Gone with the Wind)  \n",
      "23                                                   era  \n",
      "24                                    the Congress Party  \n",
      "25                                    (Wilt) Chamberlain  \n",
      "26                                                    K2  \n",
      "27                                           Ethan Allen  \n",
      "28                                                   ply  \n",
      "29                                                Horton  \n",
      "30                                                 Nixon  \n",
      "31                                              a kennel  \n",
      "32                                                 Moses  \n",
      "33                                             Aerosmith  \n",
      "34                                               oratory  \n",
      "35                          Coolidge (or Chester Arthur)  \n",
      "36                                        business class  \n",
      "37                                              Muhammed  \n",
      "38                                   the \"Mystery Train\"  \n",
      "39                                      an old-fashioned  \n",
      "40                                                Yertle  \n",
      "41                                            Air France  \n",
      "42                                           the Quakers  \n",
      "43                                       (Sheena) Easton  \n",
      "44                                               organza  \n",
      "45                                       Mulberry Street  \n",
      "46                                                   Ted  \n",
      "47                                           (John) Knox  \n",
      "48                                             The Clash  \n",
      "49                                                    XC  \n",
      "49\n"
     ]
    }
   ],
   "source": [
    "jeopardy = pd.read_csv('jeopardy.csv')\n",
    "\n",
    "print(jeopardy.head(50))\n",
    "\n",
    "# rename columns\n",
    "jeopardy.rename(columns={'Show Number': 'show_number', ' Air Date': 'air_date', ' Round': 'round', ' Category': 'category', ' Value': 'value', ' Question': 'question', ' Answer': 'answer'}, inplace=True)\n",
    "\n",
    "def filter_data(data, words):\n",
    "    filter = lambda x: all(word in x for word in words)\n",
    "    return data.loc[data['question'].apply(filter)]\n",
    "\n",
    "check = filter_data(jeopardy, [\"King\", \"England\"])\n",
    "print(check['question'].count())\n",
    "\n"
   ]
  },
  {
   "cell_type": "markdown",
   "metadata": {},
   "source": [
    "3. Test your original function with a few different sets of words to try to find some ways your function breaks. Edit your function so it is more robust.\n",
    "\n",
    "   For example, think about capitalization. We probably want to find questions that contain the word `\"King\"` or `\"king\"`.\n",
    "   \n",
    "   You may also want to check to make sure you don't find rows that contain substrings of your given words. For example, our function found a question that didn't contain the word `\"king\"`, however it did contain the word `\"viking\"` &mdash; it found the `\"king\"` inside `\"viking\"`. Note that this also comes with some drawbacks &mdash; you would no longer find questions that contained words like `\"England's\"`."
   ]
  },
  {
   "cell_type": "code",
   "execution_count": 25,
   "metadata": {},
   "outputs": [
    {
     "name": "stdout",
     "output_type": "stream",
     "text": [
      "152\n"
     ]
    }
   ],
   "source": [
    "def filter_data_lower(data, words):\n",
    "    filter = lambda x: all(word.lower() in x.lower() for word in words)\n",
    "    return data.loc[data['question'].apply(filter)]\n",
    "\n",
    "check = filter_data_lower(jeopardy, [\"King\", \"England\"])\n",
    "print(check['question'].count())"
   ]
  },
  {
   "cell_type": "markdown",
   "metadata": {},
   "source": [
    "4. We may want to eventually compute aggregate statistics, like `.mean()` on the `\" Value\"` column. But right now, the values in that column are strings. Convert the`\" Value\"` column to floats. If you'd like to, you can create a new column with float values.\n",
    "\n",
    "   While most of the values in the `\" Value\"` column represent a dollar amount as a string, note that some do not &mdash; these values will need to be handled differently!\n",
    "\n",
    "   Now that you can filter the dataset of question, use your new column that contains the float values of each question to find the \"difficulty\" of certain topics. For example, what is the average value of questions that contain the word `\"King\"`?\n",
    "   \n",
    "   Make sure to use the dataset that contains the float values as the dataset you use in your filtering function."
   ]
  },
  {
   "cell_type": "code",
   "execution_count": 53,
   "metadata": {},
   "outputs": [
    {
     "name": "stdout",
     "output_type": "stream",
     "text": [
      "0          200.0\n",
      "1          200.0\n",
      "2          200.0\n",
      "3          200.0\n",
      "4          200.0\n",
      "           ...  \n",
      "216925    2000.0\n",
      "216926    2000.0\n",
      "216927    2000.0\n",
      "216928    2000.0\n",
      "216929       0.0\n",
      "Name: float_value, Length: 216930, dtype: float64\n",
      "739.9884755451067\n",
      "771.8833850722094\n"
     ]
    }
   ],
   "source": [
    "jeopardy['float_value'] = jeopardy['value'].apply(lambda x: float(x.replace('$', '').replace(',', '')) if x != 'no value' else 0)\n",
    "print(jeopardy['float_value'])\n",
    "\n",
    "float_value_mean = jeopardy['float_value'].mean()\n",
    "print(float_value_mean)\n",
    "\n",
    "filter_king_lower = filter_data_lower(jeopardy, ['King'])\n",
    "print(filter_king_lower['float_value'].mean())\n"
   ]
  },
  {
   "cell_type": "markdown",
   "metadata": {},
   "source": [
    "5. Write a function that returns the count of unique answers to all of the questions in a dataset. For example, after filtering the entire dataset to only questions containing the word `\"King\"`, we could then find all of the unique answers to those questions. The answer \"Henry VIII\" appeared 55 times and was the most common answer."
   ]
  },
  {
   "cell_type": "code",
   "execution_count": 64,
   "metadata": {},
   "outputs": [
    {
     "name": "stdout",
     "output_type": "stream",
     "text": [
      "answer\n",
      "Henry VIII                   55\n",
      "Solomon                      35\n",
      "Richard III                  33\n",
      "Louis XIV                    31\n",
      "David                        30\n",
      "                             ..\n",
      "cardiac (in card I acted)     1\n",
      "Henderson                     1\n",
      "Computer                      1\n",
      "Indians                       1\n",
      "work                          1\n",
      "Name: count, Length: 5268, dtype: int64\n"
     ]
    }
   ],
   "source": [
    "def count_uanswer(data):\n",
    "    return data['answer'].value_counts()\n",
    "   \n",
    "\n",
    "print(count_uanswer(filter_king_lower))"
   ]
  },
  {
   "cell_type": "markdown",
   "metadata": {},
   "source": [
    "6. Explore from here! This is an incredibly rich dataset, and there are so many interesting things to discover. There are a few columns that we haven't even started looking at yet. Here are some ideas on ways to continue working with this data:\n",
    "\n",
    " * Investigate the ways in which questions change over time by filtering by the date. How many questions from the 90s use the word `\"Computer\"` compared to questions from the 2000s?\n",
    " * Is there a connection between the round and the category? Are you more likely to find certain categories, like `\"Literature\"` in Single Jeopardy or Double Jeopardy?\n",
    " * Build a system to quiz yourself. Grab random questions, and use the <a href=\"https://docs.python.org/3/library/functions.html#input\">input</a> function to get a response from the user. Check to see if that response was right or wrong."
   ]
  },
  {
   "cell_type": "code",
   "execution_count": 103,
   "metadata": {},
   "outputs": [
    {
     "name": "stdout",
     "output_type": "stream",
     "text": [
      "Answer 1\n",
      "98\n",
      "\n",
      "\n",
      "Answer 2\n",
      "round\n",
      "Double Jeopardy!    88\n",
      "Jeopardy!           55\n",
      "Final Jeopardy!      8\n",
      "Name: count, dtype: int64\n",
      "\n",
      "\n"
     ]
    }
   ],
   "source": [
    "def airdate_90s(data, words):\n",
    "    filter_date_for_90 = (data['air_date'] >= '1990-01-01') & (data['air_date'] <= '1999-12-31')\n",
    "    filter_date_for_90_word = lambda x: all(word.lower() in x.lower() for word in words)\n",
    "    filtered = data[filter_date_for_90 & data['question'].apply(filter_date_for_90_word)]\n",
    "    return filtered\n",
    "\n",
    "computer = airdate_90s(jeopardy, [\"Computer\"])\n",
    "print(f\"Answer 1\")\n",
    "print(computer['answer'].count())\n",
    "print(f\"\\n\")\n",
    "\n",
    "def unique_value(data, col, words):\n",
    "    filter_words = lambda x: all(word.lower() in x.lower() for word in words)\n",
    "    filtered = data[data['question'].apply(filter_words)]\n",
    "    return filtered[col].value_counts()\n",
    "\n",
    "print(\"Answer 2\")\n",
    "print(unique_value(jeopardy, 'round', ['literature']))\n",
    "print(f\"\\n\")\n",
    "\n"
   ]
  },
  {
   "cell_type": "markdown",
   "metadata": {},
   "source": [
    "## Solution"
   ]
  },
  {
   "cell_type": "markdown",
   "metadata": {},
   "source": [
    "7. Compare your program to our <a href=\"https://content.codecademy.com/PRO/independent-practice-projects/jeopardy/jeopardy_solution.zip\">sample solution code</a> - remember, that your program might look different from ours (and probably will) and that's okay!"
   ]
  },
  {
   "cell_type": "markdown",
   "metadata": {},
   "source": [
    "8. Great work! Visit <a href=\"https://discuss.codecademy.com/t/this-is-jeopardy-challenge-project-python-pandas/462365\">our forums</a> to compare your project to our sample solution code. You can also learn how to host your own solution on GitHub so you can share it with other learners! Your solution might look different from ours, and that's okay! There are multiple ways to solve these projects, and you'll learn more by seeing others' code."
   ]
  },
  {
   "cell_type": "code",
   "execution_count": null,
   "metadata": {},
   "outputs": [],
   "source": []
  }
 ],
 "metadata": {
  "kernelspec": {
   "display_name": "Python 3 (ipykernel)",
   "language": "python",
   "name": "python3"
  },
  "language_info": {
   "codemirror_mode": {
    "name": "ipython",
    "version": 3
   },
   "file_extension": ".py",
   "mimetype": "text/x-python",
   "name": "python",
   "nbconvert_exporter": "python",
   "pygments_lexer": "ipython3",
   "version": "3.11.5"
  }
 },
 "nbformat": 4,
 "nbformat_minor": 2
}
